{
 "cells": [
  {
   "cell_type": "code",
   "execution_count": 1,
   "id": "a5b46cf1",
   "metadata": {},
   "outputs": [],
   "source": [
    "import scqubits as scq\n",
    "import numpy as np\n"
   ]
  },
  {
   "cell_type": "code",
   "execution_count": 2,
   "id": "52f90657",
   "metadata": {},
   "outputs": [],
   "source": [
    "T5_C4_yaml = \"\"\" #5 transmon and 4 coupler\n",
    "branches:\n",
    "- [\"JJ\", 1,2, EJ= 10, 20]\n",
    "- [\"JJ\", 1,3, EJ, 9.5]\n",
    "- [\"JJ\", 1,4, EJ, 10]\n",
    "- [\"JJ\", 1,5, EJ, 10.5]\n",
    "- [\"JJ\", 1,6, EJ, 10]\n",
    "- [\"JJ\", 1,7, EJ, 9.5]\n",
    "- [\"JJ\", 1,8, EJ, 10]\n",
    "- [\"JJ\", 1,9, EJ, 10.5]\n",
    "- [\"JJ\", 1,10, EJ, 10]\n",
    "- [\"C\", 2,3, 0.2]\n",
    "- [\"C\", 3,4, 0.2]\n",
    "- [\"C\", 2,4, 0.2]\n",
    "- [\"C\", 4,5, 0.2]\n",
    "- [\"C\", 4,6, 0.2]\n",
    "- [\"C\", 5,6, 0.2]\n",
    "- [\"C\", 6,7, 0.2]\n",
    "- [\"C\", 6,8, 0.2]\n",
    "- [\"C\", 7,8, 0.2]\n",
    "- [\"C\", 8,9, 0.2]\n",
    "- [\"C\", 8,10, 0.2]\n",
    "- [\"C\", 9,10, 0.2]\n",
    "\"\"\""
   ]
  },
  {
   "cell_type": "code",
   "execution_count": 3,
   "id": "2b03ab53",
   "metadata": {},
   "outputs": [],
   "source": [
    "T5_C4 = scq.Circuit(T5_C4_yaml, from_file=False, ext_basis=\"harmonic\")"
   ]
  },
  {
   "cell_type": "code",
   "execution_count": null,
   "id": "a7a43981",
   "metadata": {},
   "outputs": [
    {
     "data": {
      "text/latex": [
       "$ \\left(0.5 \\dot{φ_10} \\cdot \\left(1.2625 \\dot{φ_10} - 0.625 \\dot{φ_8} - 0.625 \\dot{φ_9} - 0.0125 \\dot{φ_1}\\right) + 0.5 \\dot{φ_1} \\left(0.106375 \\dot{φ_1} - 0.00625 \\dot{φ_2} - 0.013158 \\dot{φ_3} - 0.013158 \\dot{φ_7} - 0.011905 \\dot{φ_5} - 0.011905 \\dot{φ_9} - 0.0125 \\dot{φ_10} - 0.0125 \\dot{φ_4} - 0.0125 \\dot{φ_6} - 0.0125 \\dot{φ_8}\\right) + 0.5 \\dot{φ_2} \\left(1.25625 \\dot{φ_2} - 0.625 \\dot{φ_3} - 0.625 \\dot{φ_4} - 0.00625 \\dot{φ_1}\\right) + 0.5 \\dot{φ_3} \\left(1.263158 \\dot{φ_3} - 0.625 \\dot{φ_2} - 0.625 \\dot{φ_4} - 0.013158 \\dot{φ_1}\\right) + 0.5 \\dot{φ_4} \\left(2.5125 \\dot{φ_4} - 0.625 \\dot{φ_2} - 0.625 \\dot{φ_3} - 0.625 \\dot{φ_5} - 0.625 \\dot{φ_6} - 0.0125 \\dot{φ_1}\\right) + 0.5 \\dot{φ_5} \\left(1.261905 \\dot{φ_5} - 0.625 \\dot{φ_4} - 0.625 \\dot{φ_6} - 0.011905 \\dot{φ_1}\\right) + 0.5 \\dot{φ_6} \\left(2.5125 \\dot{φ_6} - 0.625 \\dot{φ_4} - 0.625 \\dot{φ_5} - 0.625 \\dot{φ_7} - 0.625 \\dot{φ_8} - 0.0125 \\dot{φ_1}\\right) + 0.5 \\dot{φ_7} \\left(1.263158 \\dot{φ_7} - 0.625 \\dot{φ_6} - 0.625 \\dot{φ_8} - 0.013158 \\dot{φ_1}\\right) + 0.5 \\dot{φ_8} \\left(2.5125 \\dot{φ_8} - 0.625 \\dot{φ_10} - 0.625 \\dot{φ_6} - 0.625 \\dot{φ_7} - 0.625 \\dot{φ_9} - 0.0125 \\dot{φ_1}\\right) + 0.5 \\dot{φ_9} \\left(1.261905 \\dot{φ_9} - 0.625 \\dot{φ_10} - 0.625 \\dot{φ_8} - 0.011905 \\dot{φ_1}\\right)\\right) + \\left(EJ \\cos{\\left(φ_{1} - φ_{10} \\right)} + EJ \\cos{\\left(φ_{1} - φ_{2} \\right)} + EJ \\cos{\\left(φ_{1} - φ_{3} \\right)} + EJ \\cos{\\left(φ_{1} - φ_{4} \\right)} + EJ \\cos{\\left(φ_{1} - φ_{5} \\right)} + EJ \\cos{\\left(φ_{1} - φ_{6} \\right)} + EJ \\cos{\\left(φ_{1} - φ_{7} \\right)} + EJ \\cos{\\left(φ_{1} - φ_{8} \\right)} + EJ \\cos{\\left(φ_{1} - φ_{9} \\right)}\\right) $"
      ],
      "text/plain": [
       "<IPython.core.display.Latex object>"
      ]
     },
     "metadata": {},
     "output_type": "display_data"
    }
   ],
   "source": [
    "T5_C4.sym_lagrangian()"
   ]
  },
  {
   "cell_type": "code",
   "execution_count": 5,
   "id": "add0256d",
   "metadata": {},
   "outputs": [
    {
     "data": {
      "text/latex": [
       "$ \\left(0.053188 \\dot{θ_1}^{2} + 0.628125 \\dot{θ_2}^{2} + 0.630952 \\dot{θ_5}^{2} + 0.630952 \\dot{θ_9}^{2} + 0.631579 \\dot{θ_3}^{2} + 0.631579 \\dot{θ_7}^{2} + 1.25625 \\dot{θ_4}^{2} + 1.25625 \\dot{θ_6}^{2} + 1.25625 \\dot{θ_8}^{2} - 0.625 \\dot{θ_2} \\dot{θ_3} - 0.625 \\dot{θ_2} \\dot{θ_4} - 0.625 \\dot{θ_3} \\dot{θ_4} - 0.625 \\dot{θ_4} \\dot{θ_5} - 0.625 \\dot{θ_4} \\dot{θ_6} - 0.625 \\dot{θ_5} \\dot{θ_6} - 0.625 \\dot{θ_6} \\dot{θ_7} - 0.625 \\dot{θ_6} \\dot{θ_8} - 0.625 \\dot{θ_7} \\dot{θ_8} - 0.625 \\dot{θ_8} \\dot{θ_9} - 0.00625 \\dot{θ_1} \\dot{θ_2} - 0.013158 \\dot{θ_1} \\dot{θ_3} - 0.013158 \\dot{θ_1} \\dot{θ_7} - 0.011905 \\dot{θ_1} \\dot{θ_5} - 0.011905 \\dot{θ_1} \\dot{θ_9} - 0.0125 \\dot{θ_1} \\dot{θ_4} - 0.0125 \\dot{θ_1} \\dot{θ_6} - 0.0125 \\dot{θ_1} \\dot{θ_8}\\right) + \\left(EJ \\cos{\\left(θ_{1} \\right)} + EJ \\cos{\\left(θ_{1} - θ_{2} \\right)} + EJ \\cos{\\left(θ_{1} - θ_{3} \\right)} + EJ \\cos{\\left(θ_{1} - θ_{4} \\right)} + EJ \\cos{\\left(θ_{1} - θ_{5} \\right)} + EJ \\cos{\\left(θ_{1} - θ_{6} \\right)} + EJ \\cos{\\left(θ_{1} - θ_{7} \\right)} + EJ \\cos{\\left(θ_{1} - θ_{8} \\right)} + EJ \\cos{\\left(θ_{1} - θ_{9} \\right)}\\right) $"
      ],
      "text/plain": [
       "<IPython.core.display.Latex object>"
      ]
     },
     "metadata": {},
     "output_type": "display_data"
    }
   ],
   "source": [
    "T5_C4.sym_lagrangian(vars_type=\"new\")"
   ]
  },
  {
   "cell_type": "code",
   "execution_count": 6,
   "id": "f088f707",
   "metadata": {},
   "outputs": [
    {
     "data": {
      "text/plain": [
       "array([[1, 0, 0, 0, 0, 0, 0, 0, 0, 1],\n",
       "       [0, 1, 0, 0, 0, 0, 0, 0, 0, 1],\n",
       "       [0, 0, 1, 0, 0, 0, 0, 0, 0, 1],\n",
       "       [0, 0, 0, 1, 0, 0, 0, 0, 0, 1],\n",
       "       [0, 0, 0, 0, 1, 0, 0, 0, 0, 1],\n",
       "       [0, 0, 0, 0, 0, 1, 0, 0, 0, 1],\n",
       "       [0, 0, 0, 0, 0, 0, 1, 0, 0, 1],\n",
       "       [0, 0, 0, 0, 0, 0, 0, 1, 0, 1],\n",
       "       [0, 0, 0, 0, 0, 0, 0, 0, 1, 1],\n",
       "       [0, 0, 0, 0, 0, 0, 0, 0, 0, 1]])"
      ]
     },
     "execution_count": 6,
     "metadata": {},
     "output_type": "execute_result"
    }
   ],
   "source": [
    "T5_C4.transformation_matrix"
   ]
  },
  {
   "cell_type": "code",
   "execution_count": 7,
   "id": "d3411fdd",
   "metadata": {
    "tags": []
   },
   "outputs": [
    {
     "data": {
      "text/plain": [
       "{'periodic': [1, 2, 3, 4, 5, 6, 7, 8, 9],\n",
       " 'extended': [],\n",
       " 'free': [],\n",
       " 'frozen': []}"
      ]
     },
     "execution_count": 7,
     "metadata": {},
     "output_type": "execute_result"
    }
   ],
   "source": [
    "T5_C4.var_categories"
   ]
  },
  {
   "cell_type": "code",
   "execution_count": 8,
   "id": "6bc62deb",
   "metadata": {},
   "outputs": [],
   "source": [
    "T5_C4 = scq.Circuit(T5_C4_yaml, from_file=False)"
   ]
  }
 ],
 "metadata": {
  "kernelspec": {
   "display_name": "Python 3 (ipykernel)",
   "language": "python",
   "name": "python3"
  },
  "language_info": {
   "codemirror_mode": {
    "name": "ipython",
    "version": 3
   },
   "file_extension": ".py",
   "mimetype": "text/x-python",
   "name": "python",
   "nbconvert_exporter": "python",
   "pygments_lexer": "ipython3",
   "version": "3.10.11"
  }
 },
 "nbformat": 4,
 "nbformat_minor": 5
}
