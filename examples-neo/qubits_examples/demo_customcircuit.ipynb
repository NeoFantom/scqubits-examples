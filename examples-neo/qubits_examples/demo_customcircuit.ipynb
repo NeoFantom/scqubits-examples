{
 "cells": [
  {
   "cell_type": "markdown",
   "id": "6e21ebf5",
   "metadata": {},
   "source": [
    "# scqubits examples: custom circuits\n",
    "\n",
    "For further documentation of scqubits see https://scqubits.readthedocs.io/en/latest/.\n",
    "\n",
    "---"
   ]
  },
  {
   "cell_type": "code",
   "execution_count": 1,
   "id": "8ee2831b-8190-498c-8c85-4753d28bca51",
   "metadata": {},
   "outputs": [],
   "source": [
    "import scqubits as scq\n",
    "import matplotlib.pyplot as plt\n",
    "import numpy as np"
   ]
  },
  {
   "cell_type": "markdown",
   "id": "6f934120",
   "metadata": {},
   "source": [
    "# Example:   asymmetric $0$-$\\pi$ circuit"
   ]
  },
  {
   "cell_type": "markdown",
   "id": "93137a0e-0d49-47b1-92a1-a9dd6ef1361e",
   "metadata": {},
   "source": [
    "**$0$-$\\pi$ circuit information**"
   ]
  },
  {
   "cell_type": "code",
   "execution_count": 2,
   "id": "334a9b1e",
   "metadata": {
    "tags": []
   },
   "outputs": [],
   "source": [
    "zp_yaml =\"\"\"\n",
    "# zero-pi circuit\n",
    "branches:\n",
    "- [\"JJ\", 1, 2, EJ=10, 20] \n",
    "- [\"JJ\", 3, 4, EJ, 20]\n",
    "- [\"L\", 2, 3, 0.01]\n",
    "- [\"L\", 4, 1, 0.008]\n",
    "- [\"C\", 1, 3, 0.02]\n",
    "- [\"C\", 2, 4, 0.02]\n",
    "\"\"\""
   ]
  },
  {
   "cell_type": "markdown",
   "id": "10208459-3b8a-4efb-93df-96ef388925e0",
   "metadata": {},
   "source": [
    "**Define circuit**"
   ]
  },
  {
   "cell_type": "code",
   "execution_count": 3,
   "id": "fdb44a19",
   "metadata": {
    "tags": []
   },
   "outputs": [],
   "source": [
    "zero_pi = scq.Circuit(zp_yaml, from_file=False, ext_basis=\"discretized\")"
   ]
  },
  {
   "cell_type": "markdown",
   "id": "af2f8e28",
   "metadata": {},
   "source": [
    "## Lagrangian and variable transformation"
   ]
  },
  {
   "cell_type": "markdown",
   "id": "9d86569b-4ee8-456a-abd2-6734333a2cae",
   "metadata": {
    "tags": []
   },
   "source": [
    "**Lagrangian in terms of node variables**"
   ]
  },
  {
   "cell_type": "code",
   "execution_count": 9,
   "id": "eb41bc00",
   "metadata": {
    "tags": []
   },
   "outputs": [
    {
     "data": {
      "text/latex": [
       "$ \\left(0.5 \\dot{φ_1} \\cdot \\left(6.25625 \\dot{φ_1} - 6.25 \\dot{φ_3} - 0.00625 \\dot{φ_2}\\right) + 0.5 \\dot{φ_2} \\left(6.25625 \\dot{φ_2} - 6.25 \\dot{φ_4} - 0.00625 \\dot{φ_1}\\right) + 0.5 \\dot{φ_3} \\left(6.25625 \\dot{φ_3} - 6.25 \\dot{φ_1} - 0.00625 \\dot{φ_4}\\right) + 0.5 \\dot{φ_4} \\left(6.25625 \\dot{φ_4} - 6.25 \\dot{φ_2} - 0.00625 \\dot{φ_3}\\right)\\right) + \\left(- 0.005 \\left(φ_{3} - φ_{2}\\right)^{2} - 0.004 \\left(φ_{1} - φ_{4}\\right)^{2} + EJ \\cos{\\left(φ_{1} - φ_{2} \\right)} + EJ \\cos{\\left((2πΦ_{1}) + φ_{4} - φ_{3} \\right)}\\right) $"
      ],
      "text/plain": [
       "<IPython.core.display.Latex object>"
      ]
     },
     "metadata": {},
     "output_type": "display_data"
    }
   ],
   "source": [
    "zero_pi.sym_lagrangian(vars_type=\"node\")"
   ]
  },
  {
   "cell_type": "markdown",
   "id": "0af4de78-01d4-48f3-bcc2-b1d213fde8c5",
   "metadata": {},
   "source": [
    "**Transformation between node variables $\\{\\varphi_n\\}$ and new variables $\\{\\theta_m\\}$**"
   ]
  },
  {
   "cell_type": "code",
   "execution_count": 8,
   "id": "94d2fbcc",
   "metadata": {},
   "outputs": [
    {
     "data": {
      "text/latex": [
       "$ φ_{1} = 1.0 θ_{3} + 1.0 θ_{4} - 1.0 θ_{2} \\\\ φ_{2} = 1.0 θ_{1} + 1.0 θ_{4} - 1.0 θ_{2} \\\\ φ_{3} = 1.0 θ_{1} + 1.0 θ_{2} + 1.0 θ_{3} + 1.0 θ_{4} \\\\ φ_{4} = 1.0 θ_{2} + 1.0 θ_{4} $"
      ],
      "text/plain": [
       "<IPython.core.display.Latex object>"
      ]
     },
     "metadata": {},
     "output_type": "display_data"
    }
   ],
   "source": [
    "zero_pi.variable_transformation()"
   ]
  },
  {
   "cell_type": "code",
   "execution_count": 9,
   "id": "9f9f66c1",
   "metadata": {
    "tags": []
   },
   "outputs": [
    {
     "data": {
      "text/plain": [
       "array([[ 0., -1.,  1.,  1.],\n",
       "       [ 1., -1.,  0.,  1.],\n",
       "       [ 1.,  1.,  1.,  1.],\n",
       "       [ 0.,  1.,  0.,  1.]])"
      ]
     },
     "execution_count": 9,
     "metadata": {},
     "output_type": "execute_result"
    }
   ],
   "source": [
    "zero_pi.transformation_matrix"
   ]
  },
  {
   "cell_type": "markdown",
   "id": "258d7960-b6d6-4bc4-9b46-e90ad67b97c1",
   "metadata": {},
   "source": [
    "**Types of $\\{\\theta_m\\}$ variables in the $0$-$\\pi$ circuit.** "
   ]
  },
  {
   "cell_type": "code",
   "execution_count": 10,
   "id": "e892fdcf",
   "metadata": {
    "tags": []
   },
   "outputs": [
    {
     "data": {
      "text/plain": [
       "{'periodic': [1], 'extended': [2, 3], 'free': [], 'frozen': []}"
      ]
     },
     "execution_count": 10,
     "metadata": {},
     "output_type": "execute_result"
    }
   ],
   "source": [
    "zero_pi.var_categories\n",
    "# The numbers associated to each type correspond to the indices of the $\\theta_m$ variables."
   ]
  },
  {
   "cell_type": "markdown",
   "id": "075fa9fd-6435-4d00-951a-7dbebc689279",
   "metadata": {
    "tags": []
   },
   "source": [
    "**Symbolic Lagrangian in terms of new variables**"
   ]
  },
  {
   "cell_type": "code",
   "execution_count": 11,
   "id": "caa76553",
   "metadata": {
    "tags": []
   },
   "outputs": [
    {
     "data": {
      "text/latex": [
       "$ \\left(25.0 \\dot{θ_2}^{2} + 0.00625 \\dot{θ_3}^{2} + 6.25625 \\dot{θ_1}^{2}\\right) - \\left(0.009 θ_{3}^{2} + 0.036 θ_{2}^{2} - EJ \\cos{\\left(θ_{1} - 1.0 θ_{3} \\right)} - EJ \\cos{\\left(θ_{1} + θ_{3} - (2πΦ_{1}) \\right)} + 0.004 θ_{2} θ_{3}\\right) $"
      ],
      "text/plain": [
       "<IPython.core.display.Latex object>"
      ]
     },
     "metadata": {},
     "output_type": "display_data"
    }
   ],
   "source": [
    "zero_pi.sym_lagrangian(vars_type=\"new\")"
   ]
  },
  {
   "cell_type": "markdown",
   "id": "ee34212b",
   "metadata": {},
   "source": [
    "## Hamiltonian and diagonalization"
   ]
  },
  {
   "cell_type": "markdown",
   "id": "30c32cb1-c69d-4c7b-ab9d-f0745072aefc",
   "metadata": {},
   "source": [
    "**Symbolic Hamiltonian**"
   ]
  },
  {
   "cell_type": "code",
   "execution_count": 12,
   "id": "79d9115a",
   "metadata": {
    "tags": []
   },
   "outputs": [
    {
     "data": {
      "text/latex": [
       "$ \\left(40.0 Q_{3}^{2} + 0.03996 n_{1}^{2} + 0.03996 n_{g1}^{2} + 0.01 Q_{2}^{2} + 0.07992 n_{1} n_{g1}\\right) + \\left(0.009 θ_{3}^{2} + 0.036 θ_{2}^{2} - EJ \\cos{\\left(θ_{1} - 1.0 θ_{3} \\right)} - EJ \\cos{\\left(θ_{1} + θ_{3} - (2πΦ_{1}) \\right)} + 0.004 θ_{2} θ_{3}\\right) $"
      ],
      "text/plain": [
       "<IPython.core.display.Latex object>"
      ]
     },
     "metadata": {},
     "output_type": "display_data"
    }
   ],
   "source": [
    "zero_pi.sym_hamiltonian()"
   ]
  },
  {
   "cell_type": "markdown",
   "id": "b5ea9066-d370-4be3-b92f-a6c0a71f9185",
   "metadata": {},
   "source": [
    "**Set cut-off for each variable**"
   ]
  },
  {
   "cell_type": "code",
   "execution_count": 13,
   "id": "41794bb0",
   "metadata": {
    "tags": []
   },
   "outputs": [
    {
     "data": {
      "text/plain": [
       "['cutoff_n_1', 'cutoff_ext_2', 'cutoff_ext_3']"
      ]
     },
     "execution_count": 13,
     "metadata": {},
     "output_type": "execute_result"
    }
   ],
   "source": [
    "zero_pi.cutoff_names"
   ]
  },
  {
   "cell_type": "code",
   "execution_count": 14,
   "id": "40ddb3cd-fe12-45eb-b200-2ee8589300c3",
   "metadata": {},
   "outputs": [],
   "source": [
    "zero_pi.cutoff_n_1 = 15\n",
    "zero_pi.cutoff_ext_2 = 15\n",
    "zero_pi.cutoff_ext_3 = 15"
   ]
  },
  {
   "cell_type": "markdown",
   "id": "5c126ca6",
   "metadata": {},
   "source": [
    "**Eigenvalues**"
   ]
  },
  {
   "cell_type": "code",
   "execution_count": 15,
   "id": "ed9a78f3-cf57-4700-8be3-1ef3d109cbcf",
   "metadata": {},
   "outputs": [
    {
     "name": "stdout",
     "output_type": "stream",
     "text": [
      "CPU times: total: 1.03 s\n",
      "Wall time: 373 ms\n"
     ]
    },
    {
     "data": {
      "text/plain": [
       "array([-7.81287861, -7.55203947, -7.55159317, -6.76876942, -6.76876917,\n",
       "       -6.74373122])"
      ]
     },
     "execution_count": 15,
     "metadata": {},
     "output_type": "execute_result"
    }
   ],
   "source": [
    "%time zero_pi.eigenvals()"
   ]
  },
  {
   "cell_type": "markdown",
   "id": "a79d5886",
   "metadata": {},
   "source": [
    "## Spectrum using hierarchical diagonalization algorithm (HD) to reduce computational time"
   ]
  },
  {
   "cell_type": "markdown",
   "id": "b393b67b-86a2-4766-a816-5c5a1c63a671",
   "metadata": {},
   "source": [
    "**Associate the $\\theta_m$ variables to subsystems**"
   ]
  },
  {
   "cell_type": "code",
   "execution_count": 16,
   "id": "b3007408",
   "metadata": {
    "tags": []
   },
   "outputs": [
    {
     "data": {
      "text/plain": [
       "[6, 6]"
      ]
     },
     "execution_count": 16,
     "metadata": {},
     "output_type": "execute_result"
    }
   ],
   "source": [
    "system_hierarchy = [[1,3], [2]]\n",
    "scq.truncation_template(system_hierarchy)"
   ]
  },
  {
   "cell_type": "markdown",
   "id": "533140d9-d7c5-4fa1-9731-70e24766efd9",
   "metadata": {},
   "source": [
    "**Set cut-offs for the eigenbasis of each subsystem**"
   ]
  },
  {
   "cell_type": "code",
   "execution_count": 17,
   "id": "37f581b7-7d8e-4836-8303-a789ee7e2843",
   "metadata": {},
   "outputs": [],
   "source": [
    "subsystem_trunc_dims = [80, 30]"
   ]
  },
  {
   "cell_type": "markdown",
   "id": "9635c99f-c167-4781-8a9c-e74313c5de65",
   "metadata": {},
   "source": [
    "**Setup circuit for HD**"
   ]
  },
  {
   "cell_type": "code",
   "execution_count": 18,
   "id": "200e23a1",
   "metadata": {
    "tags": []
   },
   "outputs": [],
   "source": [
    "zero_pi.cutoff_n_1 = 15\n",
    "zero_pi.cutoff_ext_2 = 40\n",
    "zero_pi.cutoff_ext_3 = 80\n",
    "zero_pi.configure(system_hierarchy=system_hierarchy, subsystem_trunc_dims=subsystem_trunc_dims)"
   ]
  },
  {
   "cell_type": "markdown",
   "id": "2d8b5098",
   "metadata": {},
   "source": [
    "**Hamiltonian of each subsystem**"
   ]
  },
  {
   "cell_type": "code",
   "execution_count": 19,
   "id": "f49c0b98",
   "metadata": {
    "tags": []
   },
   "outputs": [
    {
     "data": {
      "text/latex": [
       "$ \\left(40.0 Q_{3}^{2} + 0.03996 n_{1}^{2} + 0.07992 n_{1} n_{g1}\\right) - \\left(- 0.009 θ_{3}^{2} + EJ \\cos{\\left(θ_{1} - 1.0 θ_{3} \\right)} + EJ \\cos{\\left(θ_{1} + θ_{3} - 1.0 (2πΦ_{1}) \\right)}\\right) $"
      ],
      "text/plain": [
       "<IPython.core.display.Latex object>"
      ]
     },
     "metadata": {},
     "output_type": "display_data"
    }
   ],
   "source": [
    "zero_pi.sym_hamiltonian(subsystem_index=0) "
   ]
  },
  {
   "cell_type": "code",
   "execution_count": 20,
   "id": "41ab2bf0-5e24-452f-a271-547100ba24c8",
   "metadata": {},
   "outputs": [
    {
     "data": {
      "text/latex": [
       "$ 0.01 Q_{2}^{2} + 0.036 θ_{2}^{2} $"
      ],
      "text/plain": [
       "<IPython.core.display.Latex object>"
      ]
     },
     "metadata": {},
     "output_type": "display_data"
    }
   ],
   "source": [
    "zero_pi.sym_hamiltonian(subsystem_index=1)"
   ]
  },
  {
   "cell_type": "markdown",
   "id": "f9d66d86",
   "metadata": {},
   "source": [
    "**Interaction between subsystems**"
   ]
  },
  {
   "cell_type": "code",
   "execution_count": 21,
   "id": "6b99a190",
   "metadata": {
    "tags": []
   },
   "outputs": [
    {
     "data": {
      "text/latex": [
       "$ 0.004 θ_{2} θ_{3} $"
      ],
      "text/plain": [
       "<IPython.core.display.Latex object>"
      ]
     },
     "metadata": {},
     "output_type": "display_data"
    }
   ],
   "source": [
    "zero_pi.sym_interaction((0,1))  # show coupling terms between subsystems 0 and 1"
   ]
  },
  {
   "cell_type": "markdown",
   "id": "cb3a473f-fe16-437c-9845-d85cdfc33464",
   "metadata": {},
   "source": [
    "**Eigenvalues using HD**"
   ]
  },
  {
   "cell_type": "code",
   "execution_count": 22,
   "id": "50404a5d-8bdb-409b-aab4-887aa8e7e59f",
   "metadata": {},
   "outputs": [
    {
     "name": "stdout",
     "output_type": "stream",
     "text": [
      "CPU times: total: 25.1 s\n",
      "Wall time: 6.02 s\n"
     ]
    },
    {
     "data": {
      "text/plain": [
       "array([-3.64681404, -3.64595024, -3.61785781, -3.61699292, -3.56142004,\n",
       "       -3.56054153])"
      ]
     },
     "execution_count": 22,
     "metadata": {},
     "output_type": "execute_result"
    }
   ],
   "source": [
    "%time zero_pi.eigenvals()"
   ]
  },
  {
   "cell_type": "markdown",
   "id": "cb09fd8e",
   "metadata": {},
   "source": [
    "## Set external fluxes"
   ]
  },
  {
   "cell_type": "code",
   "execution_count": 23,
   "id": "fcf140cd",
   "metadata": {
    "tags": []
   },
   "outputs": [
    {
     "data": {
      "text/plain": [
       "{Φ1: (Branch(JJ, 3, 4, id_str: 1),\n",
       "  [Branch(JJ, 1, 2, id_str: 0),\n",
       "   Branch(L, 2, 3, id_str: 2),\n",
       "   Branch(L, 4, 1, id_str: 3),\n",
       "   Branch(JJ, 3, 4, id_str: 1)])}"
      ]
     },
     "execution_count": 23,
     "metadata": {},
     "output_type": "execute_result"
    }
   ],
   "source": [
    "zero_pi.sym_external_fluxes()"
   ]
  },
  {
   "cell_type": "code",
   "execution_count": 24,
   "id": "3f8b462a-4436-4d45-b430-bcd552c08d41",
   "metadata": {},
   "outputs": [
    {
     "data": {
      "text/plain": [
       "{}"
      ]
     },
     "execution_count": 24,
     "metadata": {},
     "output_type": "execute_result"
    }
   ],
   "source": [
    "zero_pi.get_initdata()"
   ]
  },
  {
   "cell_type": "code",
   "execution_count": 36,
   "id": "b8eb8bed",
   "metadata": {
    "tags": []
   },
   "outputs": [
    {
     "data": {
      "application/vnd.jupyter.widget-view+json": {
       "model_id": "",
       "version_major": 2,
       "version_minor": 0
      },
      "text/plain": [
       "Spectral data:   0%|          | 0/21 [00:00<?, ?it/s]"
      ]
     },
     "metadata": {},
     "output_type": "display_data"
    },
    {
     "data": {
      "text/plain": [
       "(<Figure size 640x480 with 1 Axes>, <Axes: xlabel='Φ1', ylabel='energy [GHz]'>)"
      ]
     },
     "execution_count": 36,
     "metadata": {},
     "output_type": "execute_result"
    },
    {
     "data": {
      "application/pdf": "[encoded data removed]",
      "image/svg+xml": [
       "<?xml version=\"1.0\" encoding=\"utf-8\" standalone=\"no\"?>\n",
       "<!DOCTYPE svg PUBLIC \"-//W3C//DTD SVG 1.1//EN\"\n",
       "  \"http://www.w3.org/Graphics/SVG/1.1/DTD/svg11.dtd\">\n",
       "<svg xmlns:xlink=\"http://www.w3.org/1999/xlink\" width=\"419.932656pt\" height=\"311.252pt\" viewBox=\"0 0 419.932656 311.252\" xmlns=\"http://www.w3.org/2000/svg\" version=\"1.1\">\n",
       " <metadata>\n",
       "  <rdf:RDF xmlns:dc=\"http://purl.org/dc/elements/1.1/\" xmlns:cc=\"http://creativecommons.org/ns#\" xmlns:rdf=\"http://www.w3.org/1999/02/22-rdf-syntax-ns#\">\n",
       "   <cc:Work>\n",
       "    <dc:type rdf:resource=\"http://purl.org/dc/dcmitype/StillImage\"/>\n",
       "    <dc:date>2023-05-09T15:06:12.403273</dc:date>\n",
       "    <dc:format>image/svg+xml</dc:format>\n",
       "    <dc:creator>\n",
       "     <cc:Agent>\n",
       "      <dc:title>Matplotlib v3.7.1, https://matplotlib.org/</dc:title>\n",
       "     </cc:Agent>\n",
       "    </dc:creator>\n",
       "   </cc:Work>\n",
       "  </rdf:RDF>\n",
       " </metadata>\n",
       " <defs>\n",
       "  <style type=\"text/css\">*{stroke-linejoin: round; stroke-linecap: butt}</style>\n",
       " </defs>\n",
       " <g id=\"figure_1\">\n",
       "  <g id=\"patch_1\">\n",
       "   <path d=\"M 0 311.252 \n",
       "L 419.932656 311.252 \n",
       "L 419.932656 0 \n",
       "L 0 0 \n",
       "z\n",
       "\" style=\"fill: #ffffff\"/>\n",
       "  </g>\n",
       "  <g id=\"axes_1\">\n",
       "   <g id=\"patch_2\">\n",
       "    <path d=\"M 55.612656 273.312 \n",
       "L 412.732656 273.312 \n",
       "L 412.732656 7.2 \n",
       "L 55.612656 7.2 \n",
       "z\n",
       "\" style=\"fill: #ffffff\"/>\n",
       "   </g>\n",
       "   <g id=\"matplotlib.axis_1\">\n",
       "    <g id=\"xtick_1\">\n",
       "     <g id=\"line2d_1\">\n",
       "      <defs>\n",
       "       <path id=\"m7c273091e9\" d=\"M 0 0 \n",
       "L 0 3.5 \n",
       "\" style=\"stroke: #333333; stroke-width: 0.8\"/>\n",
       "      </defs>\n",
       "      <g>\n",
       "       <use xlink:href=\"#m7c273091e9\" x=\"71.845384\" y=\"273.312\" style=\"fill: #333333; stroke: #333333; stroke-width: 0.8\"/>\n",
       "      </g>\n",
       "     </g>\n",
       "     <g id=\"text_1\">\n",
       "      <!-- 0.0 -->\n",
       "      <g style=\"fill: #333333\" transform=\"translate(64.485227 287.712) scale(0.1 -0.1)\">\n",
       "       <defs>\n",
       "        <path id=\"IBMPlexSans-Regular-30\" d=\"M 1920 -77 \n",
       "Q 1120 -77 752 531 \n",
       "Q 384 1139 384 2234 \n",
       "Q 384 3328 752 3936 \n",
       "Q 1120 4544 1920 4544 \n",
       "Q 2720 4544 3088 3936 \n",
       "Q 3456 3328 3456 2234 \n",
       "Q 3456 1139 3088 531 \n",
       "Q 2720 -77 1920 -77 \n",
       "z\n",
       "M 1920 390 \n",
       "Q 2182 390 2368 499 \n",
       "Q 2554 608 2669 806 \n",
       "Q 2784 1005 2838 1273 \n",
       "Q 2893 1542 2893 1869 \n",
       "L 2893 2598 \n",
       "Q 2893 2925 2838 3193 \n",
       "Q 2784 3462 2669 3660 \n",
       "Q 2554 3859 2368 3968 \n",
       "Q 2182 4077 1920 4077 \n",
       "Q 1658 4077 1472 3968 \n",
       "Q 1286 3859 1171 3660 \n",
       "Q 1056 3462 1001 3193 \n",
       "Q 947 2925 947 2598 \n",
       "L 947 1869 \n",
       "Q 947 1542 1001 1273 \n",
       "Q 1056 1005 1171 806 \n",
       "Q 1286 608 1472 499 \n",
       "Q 1658 390 1920 390 \n",
       "z\n",
       "\" transform=\"scale(0.015625)\"/>\n",
       "        <path id=\"IBMPlexSans-Regular-2e\" d=\"M 870 -77 \n",
       "Q 666 -77 573 25 \n",
       "Q 480 128 480 294 \n",
       "L 480 378 \n",
       "Q 480 544 573 646 \n",
       "Q 666 749 870 749 \n",
       "Q 1075 749 1168 646 \n",
       "Q 1261 544 1261 378 \n",
       "L 1261 294 \n",
       "Q 1261 128 1168 25 \n",
       "Q 1075 -77 870 -77 \n",
       "z\n",
       "\" transform=\"scale(0.015625)\"/>\n",
       "       </defs>\n",
       "       <use xlink:href=\"#IBMPlexSans-Regular-30\"/>\n",
       "       <use xlink:href=\"#IBMPlexSans-Regular-2e\" x=\"59.999985\"/>\n",
       "       <use xlink:href=\"#IBMPlexSans-Regular-30\" x=\"87.199982\"/>\n",
       "      </g>\n",
       "     </g>\n",
       "    </g>\n",
       "    <g id=\"xtick_2\">\n",
       "     <g id=\"line2d_2\">\n",
       "      <g>\n",
       "       <use xlink:href=\"#m7c273091e9\" x=\"136.776293\" y=\"273.312\" style=\"fill: #333333; stroke: #333333; stroke-width: 0.8\"/>\n",
       "      </g>\n",
       "     </g>\n",
       "     <g id=\"text_2\">\n",
       "      <!-- 0.2 -->\n",
       "      <g style=\"fill: #333333\" transform=\"translate(129.416136 287.712) scale(0.1 -0.1)\">\n",
       "       <defs>\n",
       "        <path id=\"IBMPlexSans-Regular-32\" d=\"M 3411 0 \n",
       "L 480 0 \n",
       "L 480 550 \n",
       "L 1939 1894 \n",
       "Q 2253 2182 2464 2505 \n",
       "Q 2675 2829 2675 3155 \n",
       "L 2675 3232 \n",
       "Q 2675 3603 2470 3833 \n",
       "Q 2266 4064 1850 4064 \n",
       "Q 1645 4064 1491 4006 \n",
       "Q 1338 3949 1226 3846 \n",
       "Q 1114 3744 1040 3606 \n",
       "Q 966 3469 922 3309 \n",
       "L 442 3494 \n",
       "Q 506 3693 618 3881 \n",
       "Q 730 4070 899 4217 \n",
       "Q 1069 4365 1309 4454 \n",
       "Q 1549 4544 1875 4544 \n",
       "Q 2202 4544 2458 4448 \n",
       "Q 2714 4352 2886 4179 \n",
       "Q 3059 4006 3152 3769 \n",
       "Q 3245 3533 3245 3245 \n",
       "Q 3245 2982 3171 2758 \n",
       "Q 3098 2534 2970 2332 \n",
       "Q 2842 2131 2659 1939 \n",
       "Q 2477 1747 2266 1555 \n",
       "L 1062 474 \n",
       "L 3411 474 \n",
       "L 3411 0 \n",
       "z\n",
       "\" transform=\"scale(0.015625)\"/>\n",
       "       </defs>\n",
       "       <use xlink:href=\"#IBMPlexSans-Regular-30\"/>\n",
       "       <use xlink:href=\"#IBMPlexSans-Regular-2e\" x=\"59.999985\"/>\n",
       "       <use xlink:href=\"#IBMPlexSans-Regular-32\" x=\"87.199982\"/>\n",
       "      </g>\n",
       "     </g>\n",
       "    </g>\n",
       "    <g id=\"xtick_3\">\n",
       "     <g id=\"line2d_3\">\n",
       "      <g>\n",
       "       <use xlink:href=\"#m7c273091e9\" x=\"201.707202\" y=\"273.312\" style=\"fill: #333333; stroke: #333333; stroke-width: 0.8\"/>\n",
       "      </g>\n",
       "     </g>\n",
       "     <g id=\"text_3\">\n",
       "      <!-- 0.4 -->\n",
       "      <g style=\"fill: #333333\" transform=\"translate(194.347045 287.712) scale(0.1 -0.1)\">\n",
       "       <defs>\n",
       "        <path id=\"IBMPlexSans-Regular-34\" d=\"M 2400 0 \n",
       "L 2400 877 \n",
       "L 243 877 \n",
       "L 243 1350 \n",
       "L 2112 4467 \n",
       "L 2912 4467 \n",
       "L 2912 1325 \n",
       "L 3558 1325 \n",
       "L 3558 877 \n",
       "L 2912 877 \n",
       "L 2912 0 \n",
       "L 2400 0 \n",
       "z\n",
       "M 749 1325 \n",
       "L 2400 1325 \n",
       "L 2400 4051 \n",
       "L 2368 4051 \n",
       "L 749 1325 \n",
       "z\n",
       "\" transform=\"scale(0.015625)\"/>\n",
       "       </defs>\n",
       "       <use xlink:href=\"#IBMPlexSans-Regular-30\"/>\n",
       "       <use xlink:href=\"#IBMPlexSans-Regular-2e\" x=\"59.999985\"/>\n",
       "       <use xlink:href=\"#IBMPlexSans-Regular-34\" x=\"87.199982\"/>\n",
       "      </g>\n",
       "     </g>\n",
       "    </g>\n",
       "    <g id=\"xtick_4\">\n",
       "     <g id=\"line2d_4\">\n",
       "      <g>\n",
       "       <use xlink:href=\"#m7c273091e9\" x=\"266.638111\" y=\"273.312\" style=\"fill: #333333; stroke: #333333; stroke-width: 0.8\"/>\n",
       "      </g>\n",
       "     </g>\n",
       "     <g id=\"text_4\">\n",
       "      <!-- 0.6 -->\n",
       "      <g style=\"fill: #333333\" transform=\"translate(259.277955 287.712) scale(0.1 -0.1)\">\n",
       "       <defs>\n",
       "        <path id=\"IBMPlexSans-Regular-36\" d=\"M 1926 -77 \n",
       "Q 1581 -77 1302 41 \n",
       "Q 1024 160 829 381 \n",
       "Q 634 602 531 922 \n",
       "Q 429 1242 429 1638 \n",
       "Q 429 2138 576 2576 \n",
       "Q 723 3014 956 3376 \n",
       "Q 1190 3738 1472 4016 \n",
       "Q 1754 4294 2022 4467 \n",
       "L 2714 4467 \n",
       "Q 2355 4205 2073 3955 \n",
       "Q 1792 3706 1581 3434 \n",
       "Q 1370 3162 1222 2851 \n",
       "Q 1075 2541 986 2150 \n",
       "L 1018 2138 \n",
       "Q 1178 2413 1430 2595 \n",
       "Q 1683 2778 2093 2778 \n",
       "Q 2381 2778 2624 2682 \n",
       "Q 2867 2586 3040 2406 \n",
       "Q 3213 2227 3312 1971 \n",
       "Q 3411 1715 3411 1402 \n",
       "Q 3411 1075 3305 803 \n",
       "Q 3200 531 3005 336 \n",
       "Q 2810 141 2534 32 \n",
       "Q 2259 -77 1926 -77 \n",
       "z\n",
       "M 1920 390 \n",
       "Q 2362 390 2608 633 \n",
       "Q 2854 877 2854 1331 \n",
       "L 2854 1382 \n",
       "Q 2854 1837 2608 2080 \n",
       "Q 2362 2323 1920 2323 \n",
       "Q 1478 2323 1232 2080 \n",
       "Q 986 1837 986 1382 \n",
       "L 986 1331 \n",
       "Q 986 877 1232 633 \n",
       "Q 1478 390 1920 390 \n",
       "z\n",
       "\" transform=\"scale(0.015625)\"/>\n",
       "       </defs>\n",
       "       <use xlink:href=\"#IBMPlexSans-Regular-30\"/>\n",
       "       <use xlink:href=\"#IBMPlexSans-Regular-2e\" x=\"59.999985\"/>\n",
       "       <use xlink:href=\"#IBMPlexSans-Regular-36\" x=\"87.199982\"/>\n",
       "      </g>\n",
       "     </g>\n",
       "    </g>\n",
       "    <g id=\"xtick_5\">\n",
       "     <g id=\"line2d_5\">\n",
       "      <g>\n",
       "       <use xlink:href=\"#m7c273091e9\" x=\"331.56902\" y=\"273.312\" style=\"fill: #333333; stroke: #333333; stroke-width: 0.8\"/>\n",
       "      </g>\n",
       "     </g>\n",
       "     <g id=\"text_5\">\n",
       "      <!-- 0.8 -->\n",
       "      <g style=\"fill: #333333\" transform=\"translate(324.208864 287.712) scale(0.1 -0.1)\">\n",
       "       <defs>\n",
       "        <path id=\"IBMPlexSans-Regular-38\" d=\"M 1920 -77 \n",
       "Q 1536 -77 1248 22 \n",
       "Q 960 122 765 294 \n",
       "Q 570 467 470 704 \n",
       "Q 371 941 371 1216 \n",
       "Q 371 1677 620 1945 \n",
       "Q 870 2214 1274 2323 \n",
       "L 1274 2374 \n",
       "Q 922 2496 714 2768 \n",
       "Q 506 3040 506 3424 \n",
       "Q 506 3936 877 4240 \n",
       "Q 1248 4544 1920 4544 \n",
       "Q 2592 4544 2963 4240 \n",
       "Q 3334 3936 3334 3424 \n",
       "Q 3334 3040 3126 2768 \n",
       "Q 2918 2496 2566 2374 \n",
       "L 2566 2323 \n",
       "Q 2970 2214 3219 1945 \n",
       "Q 3469 1677 3469 1216 \n",
       "Q 3469 941 3369 704 \n",
       "Q 3270 467 3075 294 \n",
       "Q 2880 122 2592 22 \n",
       "Q 2304 -77 1920 -77 \n",
       "z\n",
       "M 1920 390 \n",
       "Q 2387 390 2643 598 \n",
       "Q 2899 806 2899 1190 \n",
       "L 2899 1325 \n",
       "Q 2899 1709 2643 1917 \n",
       "Q 2387 2125 1920 2125 \n",
       "Q 1453 2125 1197 1917 \n",
       "Q 941 1709 941 1325 \n",
       "L 941 1190 \n",
       "Q 941 806 1197 598 \n",
       "Q 1453 390 1920 390 \n",
       "z\n",
       "M 1920 2573 \n",
       "Q 2342 2573 2560 2752 \n",
       "Q 2778 2931 2778 3277 \n",
       "L 2778 3373 \n",
       "Q 2778 3718 2560 3897 \n",
       "Q 2342 4077 1920 4077 \n",
       "Q 1498 4077 1280 3897 \n",
       "Q 1062 3718 1062 3373 \n",
       "L 1062 3277 \n",
       "Q 1062 2931 1280 2752 \n",
       "Q 1498 2573 1920 2573 \n",
       "z\n",
       "\" transform=\"scale(0.015625)\"/>\n",
       "       </defs>\n",
       "       <use xlink:href=\"#IBMPlexSans-Regular-30\"/>\n",
       "       <use xlink:href=\"#IBMPlexSans-Regular-2e\" x=\"59.999985\"/>\n",
       "       <use xlink:href=\"#IBMPlexSans-Regular-38\" x=\"87.199982\"/>\n",
       "      </g>\n",
       "     </g>\n",
       "    </g>\n",
       "    <g id=\"xtick_6\">\n",
       "     <g id=\"line2d_6\">\n",
       "      <g>\n",
       "       <use xlink:href=\"#m7c273091e9\" x=\"396.499929\" y=\"273.312\" style=\"fill: #333333; stroke: #333333; stroke-width: 0.8\"/>\n",
       "      </g>\n",
       "     </g>\n",
       "     <g id=\"text_6\">\n",
       "      <!-- 1.0 -->\n",
       "      <g style=\"fill: #333333\" transform=\"translate(389.139773 287.712) scale(0.1 -0.1)\">\n",
       "       <defs>\n",
       "        <path id=\"IBMPlexSans-Regular-31\" d=\"M 563 0 \n",
       "L 563 474 \n",
       "L 1811 474 \n",
       "L 1811 4070 \n",
       "L 1766 4070 \n",
       "L 640 3021 \n",
       "L 326 3360 \n",
       "L 1510 4467 \n",
       "L 2349 4467 \n",
       "L 2349 474 \n",
       "L 3501 474 \n",
       "L 3501 0 \n",
       "L 563 0 \n",
       "z\n",
       "\" transform=\"scale(0.015625)\"/>\n",
       "       </defs>\n",
       "       <use xlink:href=\"#IBMPlexSans-Regular-31\"/>\n",
       "       <use xlink:href=\"#IBMPlexSans-Regular-2e\" x=\"59.999985\"/>\n",
       "       <use xlink:href=\"#IBMPlexSans-Regular-30\" x=\"87.199982\"/>\n",
       "      </g>\n",
       "     </g>\n",
       "    </g>\n",
       "    <g id=\"text_7\">\n",
       "     <!-- Φ1 -->\n",
       "     <g style=\"fill: #333333\" transform=\"translate(226.186484 301.852) scale(0.11 -0.11)\">\n",
       "      <defs>\n",
       "       <path id=\"IBMPlexSans-Regular-3a6\" d=\"M 2458 198 \n",
       "L 2342 198 \n",
       "Q 1856 198 1485 355 \n",
       "Q 1114 512 861 790 \n",
       "Q 608 1069 477 1446 \n",
       "Q 346 1824 346 2266 \n",
       "Q 346 2707 477 3084 \n",
       "Q 608 3462 861 3740 \n",
       "Q 1114 4019 1485 4176 \n",
       "Q 1856 4333 2342 4333 \n",
       "L 2458 4333 \n",
       "L 2458 4640 \n",
       "L 2995 4640 \n",
       "L 2995 4333 \n",
       "L 3110 4333 \n",
       "Q 3597 4333 3968 4176 \n",
       "Q 4339 4019 4592 3740 \n",
       "Q 4845 3462 4976 3084 \n",
       "Q 5107 2707 5107 2266 \n",
       "Q 5107 1824 4976 1446 \n",
       "Q 4845 1069 4592 790 \n",
       "Q 4339 512 3968 355 \n",
       "Q 3597 198 3110 198 \n",
       "L 2995 198 \n",
       "L 2995 -186 \n",
       "L 2458 -186 \n",
       "L 2458 198 \n",
       "z\n",
       "M 2470 3885 \n",
       "L 2342 3885 \n",
       "Q 2016 3885 1753 3776 \n",
       "Q 1491 3667 1305 3475 \n",
       "Q 1120 3283 1021 3024 \n",
       "Q 922 2765 922 2464 \n",
       "L 922 2067 \n",
       "Q 922 1766 1021 1507 \n",
       "Q 1120 1248 1305 1056 \n",
       "Q 1491 864 1753 755 \n",
       "Q 2016 646 2342 646 \n",
       "L 2470 646 \n",
       "L 2470 3885 \n",
       "z\n",
       "M 3110 646 \n",
       "Q 3437 646 3699 755 \n",
       "Q 3962 864 4147 1056 \n",
       "Q 4333 1248 4432 1507 \n",
       "Q 4531 1766 4531 2067 \n",
       "L 4531 2464 \n",
       "Q 4531 2765 4432 3024 \n",
       "Q 4333 3283 4147 3475 \n",
       "Q 3962 3667 3699 3776 \n",
       "Q 3437 3885 3110 3885 \n",
       "L 2982 3885 \n",
       "L 2982 646 \n",
       "L 3110 646 \n",
       "z\n",
       "\" transform=\"scale(0.015625)\"/>\n",
       "      </defs>\n",
       "      <use xlink:href=\"#IBMPlexSans-Regular-3a6\"/>\n",
       "      <use xlink:href=\"#IBMPlexSans-Regular-31\" x=\"85.199982\"/>\n",
       "     </g>\n",
       "    </g>\n",
       "   </g>\n",
       "   <g id=\"matplotlib.axis_2\">\n",
       "    <g id=\"ytick_1\">\n",
       "     <g id=\"line2d_7\">\n",
       "      <defs>\n",
       "       <path id=\"m5dbfce11a4\" d=\"M 0 0 \n",
       "L -3.5 0 \n",
       "\" style=\"stroke: #333333; stroke-width: 0.8\"/>\n",
       "      </defs>\n",
       "      <g>\n",
       "       <use xlink:href=\"#m5dbfce11a4\" x=\"55.612656\" y=\"242.111476\" style=\"fill: #333333; stroke: #333333; stroke-width: 0.8\"/>\n",
       "      </g>\n",
       "     </g>\n",
       "     <g id=\"text_8\">\n",
       "      <!-- −3.64 -->\n",
       "      <g style=\"fill: #333333\" transform=\"translate(21.892344 245.811476) scale(0.1 -0.1)\">\n",
       "       <defs>\n",
       "        <path id=\"IBMPlexSans-Regular-2212\" d=\"M 429 1734 \n",
       "L 429 2170 \n",
       "L 3411 2170 \n",
       "L 3411 1734 \n",
       "L 429 1734 \n",
       "z\n",
       "\" transform=\"scale(0.015625)\"/>\n",
       "        <path id=\"IBMPlexSans-Regular-33\" d=\"M 1670 2573 \n",
       "Q 2125 2573 2352 2781 \n",
       "Q 2579 2989 2579 3315 \n",
       "L 2579 3360 \n",
       "Q 2579 3712 2358 3888 \n",
       "Q 2138 4064 1779 4064 \n",
       "Q 1434 4064 1216 3913 \n",
       "Q 998 3763 858 3507 \n",
       "L 461 3814 \n",
       "Q 544 3949 662 4080 \n",
       "Q 781 4211 941 4313 \n",
       "Q 1101 4416 1312 4480 \n",
       "Q 1523 4544 1792 4544 \n",
       "Q 2074 4544 2323 4470 \n",
       "Q 2573 4397 2755 4253 \n",
       "Q 2938 4109 3043 3897 \n",
       "Q 3149 3686 3149 3418 \n",
       "Q 3149 3200 3081 3027 \n",
       "Q 3014 2854 2899 2726 \n",
       "Q 2784 2598 2627 2508 \n",
       "Q 2470 2419 2291 2374 \n",
       "L 2291 2349 \n",
       "Q 2470 2310 2640 2224 \n",
       "Q 2810 2138 2941 2000 \n",
       "Q 3072 1862 3152 1667 \n",
       "Q 3232 1472 3232 1222 \n",
       "Q 3232 934 3123 694 \n",
       "Q 3014 454 2816 284 \n",
       "Q 2618 115 2336 19 \n",
       "Q 2054 -77 1715 -77 \n",
       "Q 1427 -77 1203 -13 \n",
       "Q 979 51 806 160 \n",
       "Q 634 269 502 403 \n",
       "Q 371 538 269 685 \n",
       "L 672 992 \n",
       "Q 755 858 854 749 \n",
       "Q 954 640 1075 563 \n",
       "Q 1197 486 1350 444 \n",
       "Q 1504 403 1709 403 \n",
       "Q 2182 403 2425 617 \n",
       "Q 2669 832 2669 1229 \n",
       "L 2669 1280 \n",
       "Q 2669 1677 2425 1891 \n",
       "Q 2182 2106 1709 2106 \n",
       "L 1184 2106 \n",
       "L 1184 2573 \n",
       "L 1670 2573 \n",
       "z\n",
       "\" transform=\"scale(0.015625)\"/>\n",
       "       </defs>\n",
       "       <use xlink:href=\"#IBMPlexSans-Regular-2212\"/>\n",
       "       <use xlink:href=\"#IBMPlexSans-Regular-33\" x=\"59.999985\"/>\n",
       "       <use xlink:href=\"#IBMPlexSans-Regular-2e\" x=\"119.999969\"/>\n",
       "       <use xlink:href=\"#IBMPlexSans-Regular-36\" x=\"147.199966\"/>\n",
       "       <use xlink:href=\"#IBMPlexSans-Regular-34\" x=\"207.199951\"/>\n",
       "      </g>\n",
       "     </g>\n",
       "    </g>\n",
       "    <g id=\"ytick_2\">\n",
       "     <g id=\"line2d_8\">\n",
       "      <g>\n",
       "       <use xlink:href=\"#m5dbfce11a4\" x=\"55.612656\" y=\"186.037435\" style=\"fill: #333333; stroke: #333333; stroke-width: 0.8\"/>\n",
       "      </g>\n",
       "     </g>\n",
       "     <g id=\"text_9\">\n",
       "      <!-- −3.62 -->\n",
       "      <g style=\"fill: #333333\" transform=\"translate(21.892344 189.737435) scale(0.1 -0.1)\">\n",
       "       <use xlink:href=\"#IBMPlexSans-Regular-2212\"/>\n",
       "       <use xlink:href=\"#IBMPlexSans-Regular-33\" x=\"59.999985\"/>\n",
       "       <use xlink:href=\"#IBMPlexSans-Regular-2e\" x=\"119.999969\"/>\n",
       "       <use xlink:href=\"#IBMPlexSans-Regular-36\" x=\"147.199966\"/>\n",
       "       <use xlink:href=\"#IBMPlexSans-Regular-32\" x=\"207.199951\"/>\n",
       "      </g>\n",
       "     </g>\n",
       "    </g>\n",
       "    <g id=\"ytick_3\">\n",
       "     <g id=\"line2d_9\">\n",
       "      <g>\n",
       "       <use xlink:href=\"#m5dbfce11a4\" x=\"55.612656\" y=\"129.963394\" style=\"fill: #333333; stroke: #333333; stroke-width: 0.8\"/>\n",
       "      </g>\n",
       "     </g>\n",
       "     <g id=\"text_10\">\n",
       "      <!-- −3.60 -->\n",
       "      <g style=\"fill: #333333\" transform=\"translate(21.892344 133.663394) scale(0.1 -0.1)\">\n",
       "       <use xlink:href=\"#IBMPlexSans-Regular-2212\"/>\n",
       "       <use xlink:href=\"#IBMPlexSans-Regular-33\" x=\"59.999985\"/>\n",
       "       <use xlink:href=\"#IBMPlexSans-Regular-2e\" x=\"119.999969\"/>\n",
       "       <use xlink:href=\"#IBMPlexSans-Regular-36\" x=\"147.199966\"/>\n",
       "       <use xlink:href=\"#IBMPlexSans-Regular-30\" x=\"207.199951\"/>\n",
       "      </g>\n",
       "     </g>\n",
       "    </g>\n",
       "    <g id=\"ytick_4\">\n",
       "     <g id=\"line2d_10\">\n",
       "      <g>\n",
       "       <use xlink:href=\"#m5dbfce11a4\" x=\"55.612656\" y=\"73.889353\" style=\"fill: #333333; stroke: #333333; stroke-width: 0.8\"/>\n",
       "      </g>\n",
       "     </g>\n",
       "     <g id=\"text_11\">\n",
       "      <!-- −3.58 -->\n",
       "      <g style=\"fill: #333333\" transform=\"translate(21.892344 77.589353) scale(0.1 -0.1)\">\n",
       "       <defs>\n",
       "        <path id=\"IBMPlexSans-Regular-35\" d=\"M 3187 3994 \n",
       "L 1229 3994 \n",
       "L 1101 2291 \n",
       "L 1146 2291 \n",
       "Q 1306 2515 1507 2649 \n",
       "Q 1709 2784 2061 2784 \n",
       "Q 2349 2784 2592 2688 \n",
       "Q 2835 2592 3014 2416 \n",
       "Q 3194 2240 3293 1984 \n",
       "Q 3392 1728 3392 1402 \n",
       "Q 3392 1075 3289 803 \n",
       "Q 3187 531 2992 336 \n",
       "Q 2797 141 2518 32 \n",
       "Q 2240 -77 1888 -77 \n",
       "Q 1606 -77 1392 -13 \n",
       "Q 1178 51 1011 160 \n",
       "Q 845 269 720 403 \n",
       "Q 595 538 493 685 \n",
       "L 896 992 \n",
       "Q 979 858 1072 749 \n",
       "Q 1165 640 1277 563 \n",
       "Q 1389 486 1536 444 \n",
       "Q 1683 403 1888 403 \n",
       "Q 2349 403 2585 646 \n",
       "Q 2822 890 2822 1331 \n",
       "L 2822 1395 \n",
       "Q 2822 1837 2585 2080 \n",
       "Q 2349 2323 1888 2323 \n",
       "Q 1581 2323 1405 2211 \n",
       "Q 1229 2099 1088 1946 \n",
       "L 634 2010 \n",
       "L 794 4467 \n",
       "L 3187 4467 \n",
       "L 3187 3994 \n",
       "z\n",
       "\" transform=\"scale(0.015625)\"/>\n",
       "       </defs>\n",
       "       <use xlink:href=\"#IBMPlexSans-Regular-2212\"/>\n",
       "       <use xlink:href=\"#IBMPlexSans-Regular-33\" x=\"59.999985\"/>\n",
       "       <use xlink:href=\"#IBMPlexSans-Regular-2e\" x=\"119.999969\"/>\n",
       "       <use xlink:href=\"#IBMPlexSans-Regular-35\" x=\"147.199966\"/>\n",
       "       <use xlink:href=\"#IBMPlexSans-Regular-38\" x=\"207.199951\"/>\n",
       "      </g>\n",
       "     </g>\n",
       "    </g>\n",
       "    <g id=\"ytick_5\">\n",
       "     <g id=\"line2d_11\">\n",
       "      <g>\n",
       "       <use xlink:href=\"#m5dbfce11a4\" x=\"55.612656\" y=\"17.815312\" style=\"fill: #333333; stroke: #333333; stroke-width: 0.8\"/>\n",
       "      </g>\n",
       "     </g>\n",
       "     <g id=\"text_12\">\n",
       "      <!-- −3.56 -->\n",
       "      <g style=\"fill: #333333\" transform=\"translate(21.892344 21.515312) scale(0.1 -0.1)\">\n",
       "       <use xlink:href=\"#IBMPlexSans-Regular-2212\"/>\n",
       "       <use xlink:href=\"#IBMPlexSans-Regular-33\" x=\"59.999985\"/>\n",
       "       <use xlink:href=\"#IBMPlexSans-Regular-2e\" x=\"119.999969\"/>\n",
       "       <use xlink:href=\"#IBMPlexSans-Regular-35\" x=\"147.199966\"/>\n",
       "       <use xlink:href=\"#IBMPlexSans-Regular-36\" x=\"207.199951\"/>\n",
       "      </g>\n",
       "     </g>\n",
       "    </g>\n",
       "    <g id=\"text_13\">\n",
       "     <!-- energy [GHz] -->\n",
       "     <g style=\"fill: #333333\" transform=\"translate(15.56 172.135375) rotate(-90) scale(0.11 -0.11)\">\n",
       "      <defs>\n",
       "       <path id=\"IBMPlexSans-Regular-65\" d=\"M 1786 -77 \n",
       "Q 1446 -77 1174 44 \n",
       "Q 902 166 707 393 \n",
       "Q 512 621 406 937 \n",
       "Q 301 1254 301 1651 \n",
       "Q 301 2042 406 2362 \n",
       "Q 512 2682 707 2909 \n",
       "Q 902 3136 1174 3257 \n",
       "Q 1446 3379 1786 3379 \n",
       "Q 2118 3379 2380 3257 \n",
       "Q 2643 3136 2828 2921 \n",
       "Q 3014 2707 3113 2412 \n",
       "Q 3213 2118 3213 1766 \n",
       "L 3213 1523 \n",
       "L 838 1523 \n",
       "L 838 1370 \n",
       "Q 838 1158 905 976 \n",
       "Q 973 794 1097 659 \n",
       "Q 1222 525 1404 448 \n",
       "Q 1587 371 1818 371 \n",
       "Q 2131 371 2364 518 \n",
       "Q 2598 666 2726 941 \n",
       "L 3091 678 \n",
       "Q 2931 339 2592 131 \n",
       "Q 2253 -77 1786 -77 \n",
       "z\n",
       "M 1786 2950 \n",
       "Q 1574 2950 1401 2876 \n",
       "Q 1229 2803 1104 2668 \n",
       "Q 979 2534 908 2352 \n",
       "Q 838 2170 838 1952 \n",
       "L 838 1907 \n",
       "L 2662 1907 \n",
       "L 2662 1978 \n",
       "Q 2662 2419 2422 2684 \n",
       "Q 2182 2950 1786 2950 \n",
       "z\n",
       "\" transform=\"scale(0.015625)\"/>\n",
       "       <path id=\"IBMPlexSans-Regular-6e\" d=\"M 544 0 \n",
       "L 544 3302 \n",
       "L 1056 3302 \n",
       "L 1056 2765 \n",
       "L 1082 2765 \n",
       "Q 1203 3046 1424 3212 \n",
       "Q 1645 3379 2016 3379 \n",
       "Q 2528 3379 2825 3049 \n",
       "Q 3123 2720 3123 2118 \n",
       "L 3123 0 \n",
       "L 2611 0 \n",
       "L 2611 2029 \n",
       "Q 2611 2918 1862 2918 \n",
       "Q 1709 2918 1565 2880 \n",
       "Q 1421 2842 1305 2765 \n",
       "Q 1190 2688 1123 2569 \n",
       "Q 1056 2451 1056 2291 \n",
       "L 1056 0 \n",
       "L 544 0 \n",
       "z\n",
       "\" transform=\"scale(0.015625)\"/>\n",
       "       <path id=\"IBMPlexSans-Regular-72\" d=\"M 544 0 \n",
       "L 544 3302 \n",
       "L 1056 3302 \n",
       "L 1056 2694 \n",
       "L 1088 2694 \n",
       "Q 1178 2931 1408 3116 \n",
       "Q 1638 3302 2042 3302 \n",
       "L 2240 3302 \n",
       "L 2240 2790 \n",
       "L 1939 2790 \n",
       "Q 1523 2790 1289 2633 \n",
       "Q 1056 2477 1056 2240 \n",
       "L 1056 0 \n",
       "L 544 0 \n",
       "z\n",
       "\" transform=\"scale(0.015625)\"/>\n",
       "       <path id=\"IBMPlexSans-Regular-67\" d=\"M 3328 -365 \n",
       "Q 3328 -877 2928 -1117 \n",
       "Q 2528 -1357 1728 -1357 \n",
       "Q 954 -1357 614 -1145 \n",
       "Q 275 -934 275 -544 \n",
       "Q 275 -275 416 -124 \n",
       "Q 557 26 800 96 \n",
       "L 800 166 \n",
       "Q 506 307 506 627 \n",
       "Q 506 877 666 1008 \n",
       "Q 826 1139 1075 1203 \n",
       "L 1075 1229 \n",
       "Q 781 1370 617 1632 \n",
       "Q 454 1894 454 2240 \n",
       "Q 454 2490 544 2701 \n",
       "Q 634 2912 797 3062 \n",
       "Q 960 3213 1187 3296 \n",
       "Q 1414 3379 1696 3379 \n",
       "Q 2048 3379 2323 3251 \n",
       "L 2323 3309 \n",
       "Q 2323 3501 2412 3625 \n",
       "Q 2502 3750 2707 3750 \n",
       "L 3200 3750 \n",
       "L 3200 3302 \n",
       "L 2573 3302 \n",
       "L 2573 3091 \n",
       "Q 2752 2938 2851 2723 \n",
       "Q 2950 2509 2950 2240 \n",
       "Q 2950 1990 2860 1779 \n",
       "Q 2771 1568 2608 1417 \n",
       "Q 2445 1267 2214 1184 \n",
       "Q 1984 1101 1702 1101 \n",
       "Q 1542 1101 1382 1133 \n",
       "Q 1216 1088 1081 1001 \n",
       "Q 947 915 947 762 \n",
       "Q 947 614 1088 563 \n",
       "Q 1229 512 1453 512 \n",
       "L 2157 512 \n",
       "Q 2771 512 3049 278 \n",
       "Q 3328 45 3328 -365 \n",
       "z\n",
       "M 2848 -403 \n",
       "Q 2848 -205 2697 -86 \n",
       "Q 2547 32 2163 32 \n",
       "L 1062 32 \n",
       "Q 755 -109 755 -416 \n",
       "Q 755 -634 918 -787 \n",
       "Q 1082 -941 1472 -941 \n",
       "L 1946 -941 \n",
       "Q 2374 -941 2611 -806 \n",
       "Q 2848 -672 2848 -403 \n",
       "z\n",
       "M 1702 1510 \n",
       "Q 2029 1510 2221 1667 \n",
       "Q 2413 1824 2413 2150 \n",
       "L 2413 2330 \n",
       "Q 2413 2656 2221 2813 \n",
       "Q 2029 2970 1702 2970 \n",
       "Q 1376 2970 1184 2813 \n",
       "Q 992 2656 992 2330 \n",
       "L 992 2150 \n",
       "Q 992 1824 1184 1667 \n",
       "Q 1376 1510 1702 1510 \n",
       "z\n",
       "\" transform=\"scale(0.015625)\"/>\n",
       "       <path id=\"IBMPlexSans-Regular-79\" d=\"M 2579 3302 \n",
       "L 3085 3302 \n",
       "L 1606 -768 \n",
       "Q 1549 -915 1491 -1014 \n",
       "Q 1434 -1114 1350 -1171 \n",
       "Q 1267 -1229 1142 -1254 \n",
       "Q 1018 -1280 838 -1280 \n",
       "L 576 -1280 \n",
       "L 576 -832 \n",
       "L 1094 -832 \n",
       "L 1344 -128 \n",
       "L 109 3302 \n",
       "L 621 3302 \n",
       "L 1414 1056 \n",
       "L 1568 518 \n",
       "L 1600 518 \n",
       "L 1779 1056 \n",
       "L 2579 3302 \n",
       "z\n",
       "\" transform=\"scale(0.015625)\"/>\n",
       "       <path id=\"IBMPlexSans-Regular-20\" transform=\"scale(0.015625)\"/>\n",
       "       <path id=\"IBMPlexSans-Regular-5b\" d=\"M 595 -883 \n",
       "L 595 4864 \n",
       "L 1645 4864 \n",
       "L 1645 4461 \n",
       "L 1037 4461 \n",
       "L 1037 -480 \n",
       "L 1645 -480 \n",
       "L 1645 -883 \n",
       "L 595 -883 \n",
       "z\n",
       "\" transform=\"scale(0.015625)\"/>\n",
       "       <path id=\"IBMPlexSans-Regular-47\" d=\"M 3488 653 \n",
       "L 3469 653 \n",
       "Q 3386 339 3062 131 \n",
       "Q 2739 -77 2227 -77 \n",
       "Q 1818 -77 1475 73 \n",
       "Q 1133 224 889 515 \n",
       "Q 646 806 508 1238 \n",
       "Q 371 1670 371 2234 \n",
       "Q 371 2790 505 3222 \n",
       "Q 640 3654 889 3945 \n",
       "Q 1139 4237 1491 4390 \n",
       "Q 1843 4544 2272 4544 \n",
       "Q 2874 4544 3277 4275 \n",
       "Q 3680 4006 3898 3565 \n",
       "L 3456 3296 \n",
       "Q 3302 3654 2998 3859 \n",
       "Q 2694 4064 2272 4064 \n",
       "Q 1978 4064 1734 3958 \n",
       "Q 1491 3853 1315 3661 \n",
       "Q 1139 3469 1043 3200 \n",
       "Q 947 2931 947 2598 \n",
       "L 947 1875 \n",
       "Q 947 1542 1043 1270 \n",
       "Q 1139 998 1315 806 \n",
       "Q 1491 614 1747 508 \n",
       "Q 2003 403 2323 403 \n",
       "Q 2554 403 2762 464 \n",
       "Q 2970 525 3126 646 \n",
       "Q 3283 768 3372 950 \n",
       "Q 3462 1133 3462 1382 \n",
       "L 3462 1824 \n",
       "L 2477 1824 \n",
       "L 2477 2298 \n",
       "L 3987 2298 \n",
       "L 3987 0 \n",
       "L 3488 0 \n",
       "L 3488 653 \n",
       "z\n",
       "\" transform=\"scale(0.015625)\"/>\n",
       "       <path id=\"IBMPlexSans-Regular-48\" d=\"M 3392 2022 \n",
       "L 1133 2022 \n",
       "L 1133 0 \n",
       "L 595 0 \n",
       "L 595 4467 \n",
       "L 1133 4467 \n",
       "L 1133 2496 \n",
       "L 3392 2496 \n",
       "L 3392 4467 \n",
       "L 3930 4467 \n",
       "L 3930 0 \n",
       "L 3392 0 \n",
       "L 3392 2022 \n",
       "z\n",
       "\" transform=\"scale(0.015625)\"/>\n",
       "       <path id=\"IBMPlexSans-Regular-7a\" d=\"M 211 0 \n",
       "L 211 429 \n",
       "L 2086 2854 \n",
       "L 269 2854 \n",
       "L 269 3302 \n",
       "L 2707 3302 \n",
       "L 2707 2918 \n",
       "L 794 448 \n",
       "L 2758 448 \n",
       "L 2758 0 \n",
       "L 211 0 \n",
       "z\n",
       "\" transform=\"scale(0.015625)\"/>\n",
       "       <path id=\"IBMPlexSans-Regular-5d\" d=\"M 1434 4864 \n",
       "L 1434 -883 \n",
       "L 384 -883 \n",
       "L 384 -480 \n",
       "L 992 -480 \n",
       "L 992 4461 \n",
       "L 384 4461 \n",
       "L 384 4864 \n",
       "L 1434 4864 \n",
       "z\n",
       "\" transform=\"scale(0.015625)\"/>\n",
       "      </defs>\n",
       "      <use xlink:href=\"#IBMPlexSans-Regular-65\"/>\n",
       "      <use xlink:href=\"#IBMPlexSans-Regular-6e\" x=\"54.899994\"/>\n",
       "      <use xlink:href=\"#IBMPlexSans-Regular-65\" x=\"111.699982\"/>\n",
       "      <use xlink:href=\"#IBMPlexSans-Regular-72\" x=\"166.599976\"/>\n",
       "      <use xlink:href=\"#IBMPlexSans-Regular-67\" x=\"203.299973\"/>\n",
       "      <use xlink:href=\"#IBMPlexSans-Regular-79\" x=\"256.09996\"/>\n",
       "      <use xlink:href=\"#IBMPlexSans-Regular-20\" x=\"305.999954\"/>\n",
       "      <use xlink:href=\"#IBMPlexSans-Regular-5b\" x=\"329.599945\"/>\n",
       "      <use xlink:href=\"#IBMPlexSans-Regular-47\" x=\"361.299942\"/>\n",
       "      <use xlink:href=\"#IBMPlexSans-Regular-48\" x=\"430.799927\"/>\n",
       "      <use xlink:href=\"#IBMPlexSans-Regular-7a\" x=\"501.499908\"/>\n",
       "      <use xlink:href=\"#IBMPlexSans-Regular-5d\" x=\"547.899902\"/>\n",
       "     </g>\n",
       "    </g>\n",
       "   </g>\n",
       "   <g id=\"line2d_12\">\n",
       "    <path d=\"M 71.845384 261.216 \n",
       "L 88.078111 261.176202 \n",
       "L 104.310838 261.059697 \n",
       "L 120.543565 260.874989 \n",
       "L 136.776293 260.635624 \n",
       "L 153.00902 260.359115 \n",
       "L 169.241747 260.065295 \n",
       "L 185.474474 259.774203 \n",
       "L 201.707202 259.503827 \n",
       "L 217.939929 259.268155 \n",
       "L 234.172656 259.076005 \n",
       "L 250.405384 259.268155 \n",
       "L 266.638111 259.503827 \n",
       "L 282.870838 259.774203 \n",
       "L 299.103565 260.065295 \n",
       "L 315.336293 260.359115 \n",
       "L 331.56902 260.635624 \n",
       "L 347.801747 260.874989 \n",
       "L 364.034474 261.059697 \n",
       "L 380.267202 261.176202 \n",
       "L 396.499929 261.216 \n",
       "\" clip-path=\"url(#p4d20b66782)\" style=\"fill: none; stroke: #016e82; stroke-width: 1.5; stroke-linecap: square\"/>\n",
       "   </g>\n",
       "   <g id=\"line2d_13\">\n",
       "    <path d=\"M 71.845384 258.794177 \n",
       "L 88.078111 258.789952 \n",
       "L 104.310838 258.778253 \n",
       "L 120.543565 258.761988 \n",
       "L 136.776293 258.745926 \n",
       "L 153.00902 258.736532 \n",
       "L 169.241747 258.741662 \n",
       "L 185.474474 258.770037 \n",
       "L 201.707202 258.830443 \n",
       "L 217.939929 258.930634 \n",
       "L 234.172656 259.075988 \n",
       "L 250.405384 258.930634 \n",
       "L 266.638111 258.830443 \n",
       "L 282.870838 258.770037 \n",
       "L 299.103565 258.741662 \n",
       "L 315.336293 258.736532 \n",
       "L 331.56902 258.745926 \n",
       "L 347.801747 258.761988 \n",
       "L 364.034474 258.778253 \n",
       "L 380.267202 258.789952 \n",
       "L 396.499929 258.794177 \n",
       "\" clip-path=\"url(#p4d20b66782)\" style=\"fill: none; stroke: #333795; stroke-width: 1.5; stroke-linecap: square\"/>\n",
       "   </g>\n",
       "   <g id=\"line2d_14\">\n",
       "    <path d=\"M 71.845384 180.031377 \n",
       "L 88.078111 179.991503 \n",
       "L 104.310838 179.874779 \n",
       "L 120.543565 179.689722 \n",
       "L 136.776293 179.449906 \n",
       "L 153.00902 179.172882 \n",
       "L 169.241747 178.878524 \n",
       "L 185.474474 178.586917 \n",
       "L 201.707202 178.316089 \n",
       "L 217.939929 178.080055 \n",
       "L 234.172656 177.887657 \n",
       "L 250.405384 178.080055 \n",
       "L 266.638111 178.316089 \n",
       "L 282.870838 178.586917 \n",
       "L 299.103565 178.878524 \n",
       "L 315.336293 179.172882 \n",
       "L 331.56902 179.449906 \n",
       "L 347.801747 179.689722 \n",
       "L 364.034474 179.874779 \n",
       "L 380.267202 179.991503 \n",
       "L 396.499929 180.031377 \n",
       "\" clip-path=\"url(#p4d20b66782)\" style=\"fill: none; stroke: #2e5eac; stroke-width: 1.5; stroke-linecap: square\"/>\n",
       "   </g>\n",
       "   <g id=\"line2d_15\">\n",
       "    <path d=\"M 71.845384 177.606478 \n",
       "L 88.078111 177.602228 \n",
       "L 104.310838 177.590455 \n",
       "L 120.543565 177.574077 \n",
       "L 136.776293 177.557873 \n",
       "L 153.00902 177.548325 \n",
       "L 169.241747 177.55331 \n",
       "L 185.474474 177.581574 \n",
       "L 201.707202 177.641928 \n",
       "L 217.939929 177.742151 \n",
       "L 234.172656 177.88764 \n",
       "L 250.405384 177.742151 \n",
       "L 266.638111 177.641928 \n",
       "L 282.870838 177.581574 \n",
       "L 299.103565 177.55331 \n",
       "L 315.336293 177.548325 \n",
       "L 331.56902 177.557873 \n",
       "L 347.801747 177.574077 \n",
       "L 364.034474 177.590455 \n",
       "L 380.267202 177.602228 \n",
       "L 396.499929 177.606478 \n",
       "\" clip-path=\"url(#p4d20b66782)\" style=\"fill: none; stroke: #4498d3; stroke-width: 1.5; stroke-linecap: square\"/>\n",
       "   </g>\n",
       "   <g id=\"line2d_16\">\n",
       "    <path d=\"M 71.845384 21.796677 \n",
       "L 88.078111 21.757238 \n",
       "L 104.310838 21.641797 \n",
       "L 120.543565 21.458804 \n",
       "L 136.776293 21.22167 \n",
       "L 153.00902 20.947656 \n",
       "L 169.241747 20.656212 \n",
       "L 185.474474 20.366901 \n",
       "L 201.707202 20.097221 \n",
       "L 217.939929 19.86071 \n",
       "L 234.172656 19.666092 \n",
       "L 250.405384 19.86071 \n",
       "L 266.638111 20.097221 \n",
       "L 282.870838 20.366901 \n",
       "L 299.103565 20.656212 \n",
       "L 315.336293 20.947656 \n",
       "L 331.56902 21.22167 \n",
       "L 347.801747 21.458804 \n",
       "L 364.034474 21.641797 \n",
       "L 380.267202 21.757238 \n",
       "L 396.499929 21.796677 \n",
       "\" clip-path=\"url(#p4d20b66782)\" style=\"fill: none; stroke: #cd85b9; stroke-width: 1.5; stroke-linecap: square\"/>\n",
       "   </g>\n",
       "   <g id=\"line2d_17\">\n",
       "    <path d=\"M 71.845384 19.333591 \n",
       "L 88.078111 19.330273 \n",
       "L 104.310838 19.321241 \n",
       "L 120.543565 19.309248 \n",
       "L 136.776293 19.298799 \n",
       "L 153.00902 19.296 \n",
       "L 169.241747 19.308256 \n",
       "L 185.474474 19.343774 \n",
       "L 201.707202 19.410799 \n",
       "L 217.939929 19.516576 \n",
       "L 234.172656 19.666075 \n",
       "L 250.405384 19.516576 \n",
       "L 266.638111 19.410799 \n",
       "L 282.870838 19.343774 \n",
       "L 299.103565 19.308256 \n",
       "L 315.336293 19.296 \n",
       "L 331.56902 19.298799 \n",
       "L 347.801747 19.309248 \n",
       "L 364.034474 19.321241 \n",
       "L 380.267202 19.330273 \n",
       "L 396.499929 19.333591 \n",
       "\" clip-path=\"url(#p4d20b66782)\" style=\"fill: none; stroke: #45c3d1; stroke-width: 1.5; stroke-linecap: square\"/>\n",
       "   </g>\n",
       "   <g id=\"patch_3\">\n",
       "    <path d=\"M 55.612656 273.312 \n",
       "L 55.612656 7.2 \n",
       "\" style=\"fill: none; stroke: #333333; stroke-width: 0.8; stroke-linejoin: miter; stroke-linecap: square\"/>\n",
       "   </g>\n",
       "   <g id=\"patch_4\">\n",
       "    <path d=\"M 55.612656 273.312 \n",
       "L 412.732656 273.312 \n",
       "\" style=\"fill: none; stroke: #333333; stroke-width: 0.8; stroke-linejoin: miter; stroke-linecap: square\"/>\n",
       "   </g>\n",
       "  </g>\n",
       " </g>\n",
       " <defs>\n",
       "  <clipPath id=\"p4d20b66782\">\n",
       "   <rect x=\"55.612656\" y=\"7.2\" width=\"357.12\" height=\"266.112\"/>\n",
       "  </clipPath>\n",
       " </defs>\n",
       "</svg>\n"
      ],
      "text/plain": [
       "<Figure size 640x480 with 1 Axes>"
      ]
     },
     "metadata": {},
     "output_type": "display_data"
    }
   ],
   "source": [
    "zero_pi.plot_evals_vs_paramvals(\"Φ1\", np.linspace(0,1,21))\n",
    "# zero_pi.plot_evals_vs_paramvals(\"ng1\", np.linspace(0,1,51))"
   ]
  },
  {
   "cell_type": "markdown",
   "id": "f0e10ef8",
   "metadata": {},
   "source": [
    "## Visualization capabilities"
   ]
  },
  {
   "cell_type": "markdown",
   "id": "6b94cfe2-16bf-4da3-ac15-bdb642bd2fa6",
   "metadata": {},
   "source": [
    "**Potential energy cross-sections**"
   ]
  },
  {
   "cell_type": "code",
   "execution_count": 35,
   "id": "ad266245",
   "metadata": {
    "tags": []
   },
   "outputs": [
    {
     "data": {
      "text/plain": [
       "0.009*θ3**2 + 0.036*θ2**2 - EJ*cos(1.0*θ1 - 1.0*θ3) - EJ*cos(-Φ1 + 1.0*θ1 + 1.0*θ3) + 0.004*θ2*θ3"
      ]
     },
     "execution_count": 35,
     "metadata": {},
     "output_type": "execute_result"
    }
   ],
   "source": [
    "zero_pi.potential_symbolic"
   ]
  },
  {
   "cell_type": "code",
   "execution_count": 24,
   "id": "c21bbc97",
   "metadata": {
    "tags": []
   },
   "outputs": [
    {
     "data": {
      "text/plain": [
       "(<Figure size 432x288 with 2 Axes>,\n",
       " <AxesSubplot:xlabel='$\\\\theta_{1}$', ylabel='$\\\\theta_{3}$'>)"
      ]
     },
     "execution_count": 24,
     "metadata": {},
     "output_type": "execute_result"
    },
    {
     "data": {
      "image/png": "[encoded data removed]",
      "text/plain": [
       "<Figure size 432x288 with 2 Axes>"
      ]
     },
     "metadata": {
      "needs_background": "light"
     },
     "output_type": "display_data"
    }
   ],
   "source": [
    "zero_pi.plot_potential(θ1=np.linspace(-np.pi, np.pi,100), \n",
    "                       θ3=np.linspace(-10*np.pi, 10*np.pi, 300), \n",
    "                       θ2 = 0.)"
   ]
  },
  {
   "cell_type": "markdown",
   "id": "f9c7bc0c",
   "metadata": {},
   "source": [
    "### Eigenstates"
   ]
  },
  {
   "cell_type": "code",
   "execution_count": 29,
   "id": "edc2931d",
   "metadata": {
    "tags": []
   },
   "outputs": [
    {
     "data": {
      "text/plain": [
       "(<Figure size 432x288 with 1 Axes>,\n",
       " <AxesSubplot:xlabel='$\\\\theta_{3}$', ylabel='$|\\\\psi(\\\\theta_{3})|^2$'>)"
      ]
     },
     "execution_count": 29,
     "metadata": {},
     "output_type": "execute_result"
    },
    {
     "data": {
      "image/png": "[encoded data removed]",
      "text/plain": [
       "<Figure size 432x288 with 1 Axes>"
      ]
     },
     "metadata": {
      "needs_background": "light"
     },
     "output_type": "display_data"
    }
   ],
   "source": [
    "zero_pi.plot_wavefunction(which=0, var_indices=(3,))"
   ]
  },
  {
   "cell_type": "markdown",
   "id": "9347a84a",
   "metadata": {},
   "source": [
    "A maximum of two variable indices can be specified for a plot:"
   ]
  },
  {
   "cell_type": "code",
   "execution_count": 27,
   "id": "74d19cae",
   "metadata": {},
   "outputs": [
    {
     "data": {
      "text/plain": [
       "(<Figure size 576x216 with 2 Axes>,\n",
       " <AxesSubplot:xlabel='$\\\\theta_{2}$', ylabel='$\\\\theta_{1}$'>)"
      ]
     },
     "execution_count": 27,
     "metadata": {},
     "output_type": "execute_result"
    },
    {
     "data": {
      "image/png": "[encoded data removed]",
      "text/plain": [
       "<Figure size 576x216 with 2 Axes>"
      ]
     },
     "metadata": {
      "needs_background": "light"
     },
     "output_type": "display_data"
    },
    {
     "data": {
      "image/png": "[encoded data removed]",
      "text/plain": [
       "<Figure size 576x216 with 2 Axes>"
      ]
     },
     "metadata": {
      "needs_background": "light"
     },
     "output_type": "display_data"
    }
   ],
   "source": [
    "zero_pi.plot_wavefunction(which=1, var_indices=(1,3))\n",
    "zero_pi.plot_wavefunction(which=1, var_indices=(1,2))"
   ]
  }
 ],
 "metadata": {
  "kernelspec": {
   "display_name": "Python 3 (ipykernel)",
   "language": "python",
   "name": "python3"
  },
  "language_info": {
   "codemirror_mode": {
    "name": "ipython",
    "version": 3
   },
   "file_extension": ".py",
   "mimetype": "text/x-python",
   "name": "python",
   "nbconvert_exporter": "python",
   "pygments_lexer": "ipython3",
   "version": "3.10.11"
  },
  "vscode": {
   "interpreter": {
    "hash": "a792fa536c1d1b0e62eb0b6e146dcf6dde722af8006d3c91d223a0709e1eefa9"
   }
  }
 },
 "nbformat": 4,
 "nbformat_minor": 5
}
