{
 "cells": [
  {
   "cell_type": "code",
   "execution_count": 2,
   "metadata": {},
   "outputs": [],
   "source": [
    "import scqubits as scq\n",
    "import numpy as np\n",
    "import matplotlib.pyplot as plt"
   ]
  },
  {
   "attachments": {},
   "cell_type": "markdown",
   "metadata": {},
   "source": [
    "## Pre-defined qubits"
   ]
  },
  {
   "attachments": {},
   "cell_type": "markdown",
   "metadata": {},
   "source": [
    "### Common methods for base qubit"
   ]
  },
  {
   "cell_type": "code",
   "execution_count": null,
   "metadata": {},
   "outputs": [],
   "source": [
    "tmon = scq.Transmon(\n",
    "    EJ=30.02,\n",
    "    EC=1.2,\n",
    "    ng=0.0,\n",
    "    ncut=31\n",
    ")\n",
    "\n",
    "tmon.eigenvals(evals_count=12)\n",
    "evals, evecs = tmon.eigensys()\n",
    "fig, axes = tmon.plot_evals_vs_paramvals('ng', ng_list, evals_count=50, subtract_ground=False)\n",
    "newfig, newaxes = tmon.plot_evals_vs_paramvals('ng', ng_list, evals_count=6, subtract_ground=False, fig_ax=(fig, axes))\n",
    "\n",
    "tmon.plot_wavefunction(esys=None, which=(0,1,2,3,8), mode='real')\n",
    "\n",
    "# For definition of dispersion, see function: _compute_dispersion in\n",
    "#   https://scqubits.readthedocs.io/en/latest/_modules/scqubits/core/qubit_base.html#QubitBaseClass1d\n",
    "tmon.plot_dispersion_vs_paramvals('ng', 'EJ', EJvals, ref_param='EC', transitions=(((0,1), (0,2))))\n",
    "tmon.plot_dispersion_vs_paramvals('ng', 'EJ', EJvals, ref_param='EC', levels=(0,1,2))\n",
    "\n",
    "tmon.matrixelement_table('n_operator', evals_count=3)\n",
    "tmon.plot_matrixelements('n_operator', evals_count=10)\n",
    "tmon.plot_matrixelements('cos_phi_operator', evals_count=10, show3d=False, show_numbers=True)\n",
    "fig, ax = tmon.plot_matelem_vs_paramvals('n_operator', 'ng', ng_list, select_elems=4);"
   ]
  },
  {
   "attachments": {},
   "cell_type": "markdown",
   "metadata": {},
   "source": [
    "### Methods for specific qubits"
   ]
  },
  {
   "cell_type": "code",
   "execution_count": null,
   "metadata": {},
   "outputs": [],
   "source": [
    "transmon.plot_n_wavefunction(esys=None, which=0, mode='real')\n",
    "transmon.plot_phi_wavefunction(which=(0, 1, 4, 10), mode='abs_sqr')"
   ]
  },
  {
   "cell_type": "code",
   "execution_count": null,
   "metadata": {},
   "outputs": [],
   "source": [
    "flux_qubit.plot_potential() # Plot 2d potential\n"
   ]
  },
  {
   "attachments": {},
   "cell_type": "markdown",
   "metadata": {},
   "source": [
    "## Customized circuits"
   ]
  },
  {
   "attachments": {},
   "cell_type": "markdown",
   "metadata": {},
   "source": [
    "#### Steps to customize a circuit\n",
    "\n",
    "1. From yaml to circuit.\n",
    "   1. Check symbolic lagrangian.\n",
    "      1. Check lagrangian in transformed variables, each of which is in a category: periodic, extended, free, frozen\n",
    "   1. Check hamiltonian.\n",
    "      1. Optionally, set the cutoffs of the circuit.\n",
    "1. Calculate its eigenvalues\n",
    "\n",
    "**Problems**:\n",
    "1. How to get all the variables in a Hamiltonian $\\mathcal{H}$ or a Lagrangian $\\mathcal{L}$?\n",
    "1. What does the variables in the $\\mathcal{H}$ or $\\mathcal{L}$ mean? E.g. $n_{g1}, n_1, Q_1, \\Phi_1$"
   ]
  },
  {
   "cell_type": "code",
   "execution_count": 5,
   "metadata": {},
   "outputs": [
    {
     "data": {
      "text/latex": [
       "$ \\left(0.5 \\dot{φ_1} \\cdot \\left(0.00625 \\dot{φ_1} - 0.00625 \\dot{φ_2}\\right) + 0.5 \\dot{φ_2} \\left(0.00625 \\dot{φ_2} - 0.00625 \\dot{φ_1}\\right)\\right) + EJ \\cos{\\left(φ_{1} - φ_{2} \\right)} $"
      ],
      "text/plain": [
       "<IPython.core.display.Latex object>"
      ]
     },
     "metadata": {},
     "output_type": "display_data"
    },
    {
     "data": {
      "text/latex": [
       "$ \\left(80.0 n_{1}^{2} + 80.0 n_{g1}^{2} + 160.0 n_{1} n_{g1}\\right) - EJ \\cos{\\left(θ_{1} \\right)} $"
      ],
      "text/plain": [
       "<IPython.core.display.Latex object>"
      ]
     },
     "metadata": {},
     "output_type": "display_data"
    }
   ],
   "source": [
    "circuit_yaml='''\n",
    "branches:\n",
    "- [\"JJ\", 1, 2, EJ=10, 20]\n",
    "'''\n",
    "zero_pi = scq.Circuit(circuit_yaml, from_file=False, ext_basis=\"discretized\")\n",
    "\n",
    "zero_pi.sym_lagrangian(vars_type=\"node\")\n",
    "zero_pi.sym_hamiltonian()"
   ]
  },
  {
   "cell_type": "code",
   "execution_count": null,
   "metadata": {},
   "outputs": [],
   "source": [
    "zero_pi = scq.Circuit(circuit_yaml, from_file=False, ext_basis=\"discretized\")\n",
    "\n",
    "zero_pi.sym_lagrangian(vars_type=\"node\")\n",
    "\n",
    "zero_pi.sym_lagrangian(vars_type=\"new\")\n",
    "zero_pi.variable_transformation()\n",
    "zero_pi.transformation_matrix\n",
    "zero_pi.var_categories\n",
    "\n",
    "zero_pi.sym_hamiltonian()\n",
    "zero_pi.cutoff_names\n",
    "zero_pi.cutoff_n_1 = ...\n",
    "... # Other cutoffs\n",
    "\n",
    "\n",
    "###################### Plain diagonalization ######################\n",
    "zero_pi.eigenvals(evals_count=6)\n",
    "\n",
    "###################### Hierarchical diagonalization ######################\n",
    "system_hierarchy = [[1,3], [2]]\n",
    "scq.truncation_template(system_hierarchy)\n",
    "# Out: [6, 6]\n",
    "subsystem_trunc_dims = [80, 30]\n",
    "zero_pi.configure(system_hierarchy=system_hierarchy, subsystem_trunc_dims=subsystem_trunc_dims)\n",
    "\n",
    "zero_pi.sym_hamiltonian(subsystem_index=0)\n",
    "zero_pi.sym_interaction((0,1))\n",
    "\n",
    "zero_pi.eigenvals(evals_count=6)\n",
    "\n",
    "zero_pi.sym_external_fluxes()\n",
    "zero_pi.get_initdata()\n",
    "zero_pi.plot_evals_vs_paramvals(\"Φ1\", np.linspace(0,1,21))\n",
    "\n",
    "zero_pi.potential_symbolic\n",
    "zero_pi.plot_potential(θ1=np.linspace(-np.pi, np.pi,100), \n",
    "                       θ3=np.linspace(-10*np.pi, 10*np.pi, 300), \n",
    "                       θ2 = 0.)\n",
    "\n",
    "zero_pi.plot_wavefunction(which=0, var_indices=(3,))\n",
    "# A maximum of two var_indices can be specified\n",
    "zero_pi.plot_wavefunction(which=1, var_indices=(1,3))\n",
    "zero_pi.plot_wavefunction(which=1, var_indices=(1,2))"
   ]
  },
  {
   "cell_type": "code",
   "execution_count": null,
   "metadata": {},
   "outputs": [],
   "source": []
  }
 ],
 "metadata": {
  "kernelspec": {
   "display_name": "de",
   "language": "python",
   "name": "python3"
  },
  "language_info": {
   "codemirror_mode": {
    "name": "ipython",
    "version": 3
   },
   "file_extension": ".py",
   "mimetype": "text/x-python",
   "name": "python",
   "nbconvert_exporter": "python",
   "pygments_lexer": "ipython3",
   "version": "3.10.11"
  },
  "orig_nbformat": 4
 },
 "nbformat": 4,
 "nbformat_minor": 2
}
